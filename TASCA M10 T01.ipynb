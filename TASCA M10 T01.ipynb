{
 "cells": [
  {
   "cell_type": "code",
   "execution_count": 1,
   "id": "860c47d8",
   "metadata": {},
   "outputs": [
    {
     "name": "stderr",
     "output_type": "stream",
     "text": [
      "\n",
      "[notice] A new release of pip is available: 23.1.2 -> 23.3.1\n",
      "[notice] To update, run: python.exe -m pip install --upgrade pip\n"
     ]
    }
   ],
   "source": [
    "# importem biblioteques\n",
    "!pip install jovian --upgrade --quiet\n",
    "import requests\n",
    "from bs4 import BeautifulSoup\n",
    "import jovian\n",
    "import pandas as pd\n",
    "import numpy as np\n",
    "import scrapy\n",
    "import logging\n",
    "import json\n",
    "import sys\n",
    "import re\n",
    "from scrapy.http import TextResponse\n",
    "from scrapy.crawler import CrawlerProcess\n",
    "from selenium import webdriver\n",
    "from selenium.webdriver.support.ui import WebDriverWait\n",
    "from selenium.webdriver.support import expected_conditions as EC\n",
    "from selenium.webdriver.common.by import By"
   ]
  },
  {
   "cell_type": "markdown",
   "id": "69a7e549",
   "metadata": {},
   "source": [
    "# Tasca M10 T01"
   ]
  },
  {
   "cell_type": "markdown",
   "id": "be186747",
   "metadata": {},
   "source": [
    "**EXERCICI 1**\n",
    "\n",
    "**Realitza web scraping de dues de les tres pàgines web proposades utilitzant BeautifulSoup primer i selenium després**\n",
    "\n",
    "- http://quotes.toscrape.com\n",
    "\n",
    "- https://www.bolsamadrid.es\n",
    "\n",
    "- www.wikipedia.es (fes alguna cerca primer i escrapeja algun contingut)"
   ]
  },
  {
   "cell_type": "markdown",
   "id": "3cbc401d",
   "metadata": {},
   "source": [
    "## Beautiful Soup amb quotes.toscrape.com"
   ]
  },
  {
   "cell_type": "code",
   "execution_count": 2,
   "id": "76e43692",
   "metadata": {},
   "outputs": [
    {
     "name": "stdout",
     "output_type": "stream",
     "text": [
      "<!DOCTYPE html>\n",
      "<html lang=\"en\">\n",
      "<head>\n",
      "\t<meta charset=\"UTF-8\">\n",
      "\t<title>Quotes to Scrape</title>\n",
      "    <link rel=\"stylesheet\" href=\"/static/bootstrap.min.css\">\n",
      "    <link rel=\"stylesheet\" href=\"/static/main.css\">\n",
      "</head>\n",
      "<body>\n",
      "    <div class=\"container\">\n",
      "        <div class=\"row header-box\">\n",
      "            <div class=\"col-md-8\">\n",
      "                <h1>\n",
      "                    <a href=\"/\" style=\"text-decoration: none\">Quotes to Scrape</a>\n",
      "                </h1>\n",
      "            </div>\n",
      "            <div class=\"col-md-4\">\n",
      "                <p>\n",
      "                \n",
      "                    <a href=\"/login\">Login</a>\n",
      "                \n",
      "                </p>\n",
      "            </div>\n",
      "        </div>\n",
      "    \n",
      "\n",
      "<div class=\"row\">\n",
      "    <div class=\"col-md-8\">\n",
      "\n",
      "    <div class=\"quote\" itemscope itemtype=\"http://schema.org/CreativeWork\">\n",
      "        <span class=\"text\" itemprop=\"text\">“The world as we have created it is a process of our thinking. It cannot be changed without changing our thinking.”</span>\n",
      "        <span>by <small class=\"author\" itemprop=\"author\">Albert Einstein</small>\n",
      "        <a href=\"/author/Albert-Einstein\">(about)</a>\n",
      "        </span>\n",
      "        <div class=\"tags\">\n",
      "            Tags:\n",
      "            <meta class=\"keywords\" itemprop=\"keywords\" content=\"change,deep-thoughts,thinking,world\" /    > \n",
      "            \n",
      "            <a class=\"tag\" href=\"/tag/change/page/1/\">change</a>\n",
      "            \n",
      "            <a class=\"tag\" href=\"/tag/deep-thoughts/page/1/\">deep-thoughts</a>\n",
      "            \n",
      "            <a class=\"tag\" href=\"/tag/thinking/page/1/\">thinking</a>\n",
      "            \n",
      "            <a class=\"tag\" href=\"/tag/world/page/1/\">world</a>\n",
      "            \n",
      "        </div>\n",
      "    </div>\n",
      "\n",
      "    <div class=\"quote\" itemscope itemtype=\"http://schema.org/CreativeWork\">\n",
      "        <span class=\"text\" itemprop=\"text\">“It is our choices, Harry, that show what we truly are, far more than our abilities.”</span>\n",
      "        <span>by <small class=\"author\" itemprop=\"author\">J.K. Rowling</small>\n",
      "        <a href=\"/author/J-K-Rowling\">(about)</a>\n",
      "        </span>\n",
      "        <div class=\"tags\">\n",
      "            Tags:\n",
      "            <meta class=\"keywords\" itemprop=\"keywords\" content=\"abilities,choices\" /    > \n",
      "            \n",
      "            <a class=\"tag\" href=\"/tag/abilities/page/1/\">abilities</a>\n",
      "            \n",
      "            <a class=\"tag\" href=\"/tag/choices/page/1/\">choices</a>\n",
      "            \n",
      "        </div>\n",
      "    </div>\n",
      "\n",
      "    <div class=\"quote\" itemscope itemtype=\"http://schema.org/CreativeWork\">\n",
      "        <span class=\"text\" itemprop=\"text\">“There are only two ways to live your life. One is as though nothing is a miracle. The other is as though everything is a miracle.”</span>\n",
      "        <span>by <small class=\"author\" itemprop=\"author\">Albert Einstein</small>\n",
      "        <a href=\"/author/Albert-Einstein\">(about)</a>\n",
      "        </span>\n",
      "        <div class=\"tags\">\n",
      "            Tags:\n",
      "            <meta class=\"keywords\" itemprop=\"keywords\" content=\"inspirational,life,live,miracle,miracles\" /    > \n",
      "            \n",
      "            <a class=\"tag\" href=\"/tag/inspirational/page/1/\">inspirational</a>\n",
      "            \n",
      "            <a class=\"tag\" href=\"/tag/life/page/1/\">life</a>\n",
      "            \n",
      "            <a class=\"tag\" href=\"/tag/live/page/1/\">live</a>\n",
      "            \n",
      "            <a class=\"tag\" href=\"/tag/miracle/page/1/\">miracle</a>\n",
      "            \n",
      "            <a class=\"tag\" href=\"/tag/miracles/page/1/\">miracles</a>\n",
      "            \n",
      "        </div>\n",
      "    </div>\n",
      "\n",
      "    <div class=\"quote\" itemscope itemtype=\"http://schema.org/CreativeWork\">\n",
      "        <span class=\"text\" itemprop=\"text\">“The person, be it gentleman or lady, who has not pleasure in a good novel, must be intolerably stupid.”</span>\n",
      "        <span>by <small class=\"author\" itemprop=\"author\">Jane Austen</small>\n",
      "        <a href=\"/author/Jane-Austen\">(about)</a>\n",
      "        </span>\n",
      "        <div class=\"tags\">\n",
      "            Tags:\n",
      "            <meta class=\"keywords\" itemprop=\"keywords\" content=\"aliteracy,books,classic,humor\" /    > \n",
      "            \n",
      "            <a class=\"tag\" href=\"/tag/aliteracy/page/1/\">aliteracy</a>\n",
      "            \n",
      "            <a class=\"tag\" href=\"/tag/books/page/1/\">books</a>\n",
      "            \n",
      "            <a class=\"tag\" href=\"/tag/classic/page/1/\">classic</a>\n",
      "            \n",
      "            <a class=\"tag\" href=\"/tag/humor/page/1/\">humor</a>\n",
      "            \n",
      "        </div>\n",
      "    </div>\n",
      "\n",
      "    <div class=\"quote\" itemscope itemtype=\"http://schema.org/CreativeWork\">\n",
      "        <span class=\"text\" itemprop=\"text\">“Imperfection is beauty, madness is genius and it&#39;s better to be absolutely ridiculous than absolutely boring.”</span>\n",
      "        <span>by <small class=\"author\" itemprop=\"author\">Marilyn Monroe</small>\n",
      "        <a href=\"/author/Marilyn-Monroe\">(about)</a>\n",
      "        </span>\n",
      "        <div class=\"tags\">\n",
      "            Tags:\n",
      "            <meta class=\"keywords\" itemprop=\"keywords\" content=\"be-yourself,inspirational\" /    > \n",
      "            \n",
      "            <a class=\"tag\" href=\"/tag/be-yourself/page/1/\">be-yourself</a>\n",
      "            \n",
      "            <a class=\"tag\" href=\"/tag/inspirational/page/1/\">inspirational</a>\n",
      "            \n",
      "        </div>\n",
      "    </div>\n",
      "\n",
      "    <div class=\"quote\" itemscope itemtype=\"http://schema.org/CreativeWork\">\n",
      "        <span class=\"text\" itemprop=\"text\">“Try not to become a man of success. Rather become a man of value.”</span>\n",
      "        <span>by <small class=\"author\" itemprop=\"author\">Albert Einstein</small>\n",
      "        <a href=\"/author/Albert-Einstein\">(about)</a>\n",
      "        </span>\n",
      "        <div class=\"tags\">\n",
      "            Tags:\n",
      "            <meta class=\"keywords\" itemprop=\"keywords\" content=\"adulthood,success,value\" /    > \n",
      "            \n",
      "            <a class=\"tag\" href=\"/tag/adulthood/page/1/\">adulthood</a>\n",
      "            \n",
      "            <a class=\"tag\" href=\"/tag/success/page/1/\">success</a>\n",
      "            \n",
      "            <a class=\"tag\" href=\"/tag/value/page/1/\">value</a>\n",
      "            \n",
      "        </div>\n",
      "    </div>\n",
      "\n",
      "    <div class=\"quote\" itemscope itemtype=\"http://schema.org/CreativeWork\">\n",
      "        <span class=\"text\" itemprop=\"text\">“It is better to be hated for what you are than to be loved for what you are not.”</span>\n",
      "        <span>by <small class=\"author\" itemprop=\"author\">André Gide</small>\n",
      "        <a href=\"/author/Andre-Gide\">(about)</a>\n",
      "        </span>\n",
      "        <div class=\"tags\">\n",
      "            Tags:\n",
      "            <meta class=\"keywords\" itemprop=\"keywords\" content=\"life,love\" /    > \n",
      "            \n",
      "            <a class=\"tag\" href=\"/tag/life/page/1/\">life</a>\n",
      "            \n",
      "            <a class=\"tag\" href=\"/tag/love/page/1/\">love</a>\n",
      "            \n",
      "        </div>\n",
      "    </div>\n",
      "\n",
      "    <div class=\"quote\" itemscope itemtype=\"http://schema.org/CreativeWork\">\n",
      "        <span class=\"text\" itemprop=\"text\">“I have not failed. I&#39;ve just found 10,000 ways that won&#39;t work.”</span>\n",
      "        <span>by <small class=\"author\" itemprop=\"author\">Thomas A. Edison</small>\n",
      "        <a href=\"/author/Thomas-A-Edison\">(about)</a>\n",
      "        </span>\n",
      "        <div class=\"tags\">\n",
      "            Tags:\n",
      "            <meta class=\"keywords\" itemprop=\"keywords\" content=\"edison,failure,inspirational,paraphrased\" /    > \n",
      "            \n",
      "            <a class=\"tag\" href=\"/tag/edison/page/1/\">edison</a>\n",
      "            \n",
      "            <a class=\"tag\" href=\"/tag/failure/page/1/\">failure</a>\n",
      "            \n",
      "            <a class=\"tag\" href=\"/tag/inspirational/page/1/\">inspirational</a>\n",
      "            \n",
      "            <a class=\"tag\" href=\"/tag/paraphrased/page/1/\">paraphrased</a>\n",
      "            \n",
      "        </div>\n",
      "    </div>\n",
      "\n",
      "    <div class=\"quote\" itemscope itemtype=\"http://schema.org/CreativeWork\">\n",
      "        <span class=\"text\" itemprop=\"text\">“A woman is like a tea bag; you never know how strong it is until it&#39;s in hot water.”</span>\n",
      "        <span>by <small class=\"author\" itemprop=\"author\">Eleanor Roosevelt</small>\n",
      "        <a href=\"/author/Eleanor-Roosevelt\">(about)</a>\n",
      "        </span>\n",
      "        <div class=\"tags\">\n",
      "            Tags:\n",
      "            <meta class=\"keywords\" itemprop=\"keywords\" content=\"misattributed-eleanor-roosevelt\" /    > \n",
      "            \n",
      "            <a class=\"tag\" href=\"/tag/misattributed-eleanor-roosevelt/page/1/\">misattributed-eleanor-roosevelt</a>\n",
      "            \n",
      "        </div>\n",
      "    </div>\n",
      "\n",
      "    <div class=\"quote\" itemscope itemtype=\"http://schema.org/CreativeWork\">\n",
      "        <span class=\"text\" itemprop=\"text\">“A day without sunshine is like, you know, night.”</span>\n",
      "        <span>by <small class=\"author\" itemprop=\"author\">Steve Martin</small>\n",
      "        <a href=\"/author/Steve-Martin\">(about)</a>\n",
      "        </span>\n",
      "        <div class=\"tags\">\n",
      "            Tags:\n",
      "            <meta class=\"keywords\" itemprop=\"keywords\" content=\"humor,obvious,simile\" /    > \n",
      "            \n",
      "            <a class=\"tag\" href=\"/tag/humor/page/1/\">humor</a>\n",
      "            \n",
      "            <a class=\"tag\" href=\"/tag/obvious/page/1/\">obvious</a>\n",
      "            \n",
      "            <a class=\"tag\" href=\"/tag/simile/page/1/\">simile</a>\n",
      "            \n",
      "        </div>\n",
      "    </div>\n",
      "\n",
      "    <nav>\n",
      "        <ul class=\"pager\">\n",
      "            \n",
      "            \n",
      "            <li class=\"next\">\n",
      "                <a href=\"/page/2/\">Next <span aria-hidden=\"true\">&rarr;</span></a>\n",
      "            </li>\n",
      "            \n",
      "        </ul>\n",
      "    </nav>\n",
      "    </div>\n",
      "    <div class=\"col-md-4 tags-box\">\n",
      "        \n",
      "            <h2>Top Ten tags</h2>\n",
      "            \n",
      "            <span class=\"tag-item\">\n",
      "            <a class=\"tag\" style=\"font-size: 28px\" href=\"/tag/love/\">love</a>\n",
      "            </span>\n",
      "            \n",
      "            <span class=\"tag-item\">\n",
      "            <a class=\"tag\" style=\"font-size: 26px\" href=\"/tag/inspirational/\">inspirational</a>\n",
      "            </span>\n",
      "            \n",
      "            <span class=\"tag-item\">\n",
      "            <a class=\"tag\" style=\"font-size: 26px\" href=\"/tag/life/\">life</a>\n",
      "            </span>\n",
      "            \n",
      "            <span class=\"tag-item\">\n",
      "            <a class=\"tag\" style=\"font-size: 24px\" href=\"/tag/humor/\">humor</a>\n",
      "            </span>\n",
      "            \n",
      "            <span class=\"tag-item\">\n",
      "            <a class=\"tag\" style=\"font-size: 22px\" href=\"/tag/books/\">books</a>\n",
      "            </span>\n",
      "            \n",
      "            <span class=\"tag-item\">\n",
      "            <a class=\"tag\" style=\"font-size: 14px\" href=\"/tag/reading/\">reading</a>\n",
      "            </span>\n",
      "            \n",
      "            <span class=\"tag-item\">\n",
      "            <a class=\"tag\" style=\"font-size: 10px\" href=\"/tag/friendship/\">friendship</a>\n",
      "            </span>\n",
      "            \n",
      "            <span class=\"tag-item\">\n",
      "            <a class=\"tag\" style=\"font-size: 8px\" href=\"/tag/friends/\">friends</a>\n",
      "            </span>\n",
      "            \n",
      "            <span class=\"tag-item\">\n",
      "            <a class=\"tag\" style=\"font-size: 8px\" href=\"/tag/truth/\">truth</a>\n",
      "            </span>\n",
      "            \n",
      "            <span class=\"tag-item\">\n",
      "            <a class=\"tag\" style=\"font-size: 6px\" href=\"/tag/simile/\">simile</a>\n",
      "            </span>\n",
      "            \n",
      "        \n",
      "    </div>\n",
      "</div>\n",
      "\n",
      "    </div>\n",
      "    <footer class=\"footer\">\n",
      "        <div class=\"container\">\n",
      "            <p class=\"text-muted\">\n",
      "                Quotes by: <a href=\"https://www.goodreads.com/quotes\">GoodReads.com</a>\n",
      "            </p>\n",
      "            <p class=\"copyright\">\n",
      "                Made with <span class='zyte'>❤</span> by <a class='zyte' href=\"https://www.zyte.com\">Zyte</a>\n",
      "            </p>\n",
      "        </div>\n",
      "    </footer>\n",
      "</body>\n",
      "</html>\n"
     ]
    }
   ],
   "source": [
    "# descarreguem la pàgina\n",
    "url = \"http://quotes.toscrape.com\"\n",
    "page = requests.get(url)\n",
    "\n",
    "print(page.text)"
   ]
  },
  {
   "cell_type": "code",
   "execution_count": 3,
   "id": "81c05387",
   "metadata": {},
   "outputs": [
    {
     "data": {
      "text/plain": [
       "200"
      ]
     },
     "execution_count": 3,
     "metadata": {},
     "output_type": "execute_result"
    }
   ],
   "source": [
    "# mirem si la pàgina s'ha descarregat correctament, si el resultat es troba\n",
    "# entre 200 y 209 voldrà dir que s'ha descarregat correctament.\n",
    "page.status_code"
   ]
  },
  {
   "cell_type": "code",
   "execution_count": 4,
   "id": "43eb8e18",
   "metadata": {},
   "outputs": [
    {
     "data": {
      "text/plain": [
       "bs4.BeautifulSoup"
      ]
     },
     "execution_count": 4,
     "metadata": {},
     "output_type": "execute_result"
    }
   ],
   "source": [
    "# per extraure informació del codi font HTML mitjançant programació\n",
    "doc = BeautifulSoup(page.text, 'html.parser')\n",
    "type(doc)"
   ]
  },
  {
   "cell_type": "code",
   "execution_count": 5,
   "id": "ee92620c",
   "metadata": {},
   "outputs": [
    {
     "data": {
      "text/plain": [
       "10"
      ]
     },
     "execution_count": 5,
     "metadata": {},
     "output_type": "execute_result"
    }
   ],
   "source": [
    "# si mirem el cuadro de desenvolupadors a chrome veiem una etiqueta div amb la\n",
    "# classe establerta en quote. busquem totes les etiquetes div que tinguin\n",
    "# la clase quote.b\n",
    "div_tags = doc.find_all('div', class_ = 'quote')\n",
    "len(div_tags)"
   ]
  },
  {
   "cell_type": "code",
   "execution_count": 6,
   "id": "192a0ea4",
   "metadata": {},
   "outputs": [],
   "source": [
    "# cada pàgina té 10 cites, per tant el length de div_tags és 10. \n",
    "# div_tags conté informació de la cita, el nom de l'autor, enllaços a la \n",
    "# bibliografía de l'autor\n",
    "def get_quotes(div_tags):\n",
    "# d'aquesta manera obtenim la llista de cites per una pàgina\n",
    "    quotes = []\n",
    "    for tag in div_tags:\n",
    "        quote = tag.find('span', class_ = 'text').text\n",
    "        quotes.append(quote)\n",
    "    return quotes"
   ]
  },
  {
   "cell_type": "code",
   "execution_count": 7,
   "id": "f0904c3c",
   "metadata": {
    "scrolled": true
   },
   "outputs": [
    {
     "data": {
      "text/plain": [
       "['“The world as we have created it is a process of our thinking. It cannot be changed without changing our thinking.”',\n",
       " '“It is our choices, Harry, that show what we truly are, far more than our abilities.”',\n",
       " '“There are only two ways to live your life. One is as though nothing is a miracle. The other is as though everything is a miracle.”',\n",
       " '“The person, be it gentleman or lady, who has not pleasure in a good novel, must be intolerably stupid.”',\n",
       " \"“Imperfection is beauty, madness is genius and it's better to be absolutely ridiculous than absolutely boring.”\",\n",
       " '“Try not to become a man of success. Rather become a man of value.”',\n",
       " '“It is better to be hated for what you are than to be loved for what you are not.”',\n",
       " \"“I have not failed. I've just found 10,000 ways that won't work.”\",\n",
       " \"“A woman is like a tea bag; you never know how strong it is until it's in hot water.”\",\n",
       " '“A day without sunshine is like, you know, night.”']"
      ]
     },
     "execution_count": 7,
     "metadata": {},
     "output_type": "execute_result"
    }
   ],
   "source": [
    "get_quotes(div_tags)"
   ]
  },
  {
   "cell_type": "code",
   "execution_count": 8,
   "id": "d979aab1",
   "metadata": {},
   "outputs": [],
   "source": [
    "# ara extraiem els noms dels autors que es troba dins de small tag\n",
    "def get_author_name(div_tags):\n",
    "    authors = []\n",
    "    for tag in div_tags:\n",
    "        span_tag = tag.find('span', class_ = None)\n",
    "        author = span_tag.find('small', class_ = 'author').text\n",
    "        authors.append(author)\n",
    "    return authors"
   ]
  },
  {
   "cell_type": "code",
   "execution_count": 9,
   "id": "51a54019",
   "metadata": {},
   "outputs": [
    {
     "data": {
      "text/plain": [
       "['Albert Einstein',\n",
       " 'J.K. Rowling',\n",
       " 'Albert Einstein',\n",
       " 'Jane Austen',\n",
       " 'Marilyn Monroe',\n",
       " 'Albert Einstein',\n",
       " 'André Gide',\n",
       " 'Thomas A. Edison',\n",
       " 'Eleanor Roosevelt',\n",
       " 'Steve Martin']"
      ]
     },
     "execution_count": 9,
     "metadata": {},
     "output_type": "execute_result"
    }
   ],
   "source": [
    "get_author_name(div_tags)"
   ]
  },
  {
   "cell_type": "code",
   "execution_count": 10,
   "id": "26239ffc",
   "metadata": {},
   "outputs": [],
   "source": [
    "# extreiem\n",
    "def get_quote_tag(div_tags):\n",
    "    name_tags = []\n",
    "    for tag in div_tags:\n",
    "        name_tag = tag.find('div', class_ = 'tags').meta['content']\n",
    "        name_tags.append(name_tag)\n",
    "    return name_tags"
   ]
  },
  {
   "cell_type": "code",
   "execution_count": 11,
   "id": "17049778",
   "metadata": {},
   "outputs": [
    {
     "data": {
      "text/plain": [
       "['change,deep-thoughts,thinking,world',\n",
       " 'abilities,choices',\n",
       " 'inspirational,life,live,miracle,miracles',\n",
       " 'aliteracy,books,classic,humor',\n",
       " 'be-yourself,inspirational',\n",
       " 'adulthood,success,value',\n",
       " 'life,love',\n",
       " 'edison,failure,inspirational,paraphrased',\n",
       " 'misattributed-eleanor-roosevelt',\n",
       " 'humor,obvious,simile']"
      ]
     },
     "execution_count": 11,
     "metadata": {},
     "output_type": "execute_result"
    }
   ],
   "source": [
    "get_quote_tag(div_tags)"
   ]
  },
  {
   "cell_type": "code",
   "execution_count": 12,
   "id": "e44c0e31",
   "metadata": {},
   "outputs": [],
   "source": [
    "# extreiem els enllaços de la biografia de l'autor.\n",
    "def get_author_urls(div_tags):\n",
    "    author_links = []\n",
    "    for tag in div_tags:\n",
    "        span_tag = tag.find('span', class_ = None)\n",
    "        author_link = 'http://quotes.toscrape.com'+span_tag.find('a')['href']\n",
    "        author_links.append(author_link)\n",
    "    return author_links"
   ]
  },
  {
   "cell_type": "code",
   "execution_count": 13,
   "id": "97e2fc07",
   "metadata": {},
   "outputs": [
    {
     "data": {
      "text/plain": [
       "['http://quotes.toscrape.com/author/Albert-Einstein',\n",
       " 'http://quotes.toscrape.com/author/J-K-Rowling',\n",
       " 'http://quotes.toscrape.com/author/Albert-Einstein',\n",
       " 'http://quotes.toscrape.com/author/Jane-Austen',\n",
       " 'http://quotes.toscrape.com/author/Marilyn-Monroe',\n",
       " 'http://quotes.toscrape.com/author/Albert-Einstein',\n",
       " 'http://quotes.toscrape.com/author/Andre-Gide',\n",
       " 'http://quotes.toscrape.com/author/Thomas-A-Edison',\n",
       " 'http://quotes.toscrape.com/author/Eleanor-Roosevelt',\n",
       " 'http://quotes.toscrape.com/author/Steve-Martin']"
      ]
     },
     "execution_count": 13,
     "metadata": {},
     "output_type": "execute_result"
    }
   ],
   "source": [
    "get_author_urls(div_tags)"
   ]
  },
  {
   "cell_type": "code",
   "execution_count": 14,
   "id": "a84cf774",
   "metadata": {},
   "outputs": [],
   "source": [
    "author_names = get_author_name(div_tags)\n",
    "quotes_list =  get_quotes(div_tags)\n",
    "urls = get_author_urls(div_tags)\n",
    "subject_names = get_quote_tag(div_tags)"
   ]
  },
  {
   "cell_type": "code",
   "execution_count": 15,
   "id": "9d4def73",
   "metadata": {},
   "outputs": [],
   "source": [
    "# fem un diccionari combinant tota la llista obtinguda al analitzar el lloc web.\n",
    "def list_of_dict(quotes_list, author_names, urls, subject_names):\n",
    "    return[{'Quotes' : quotes_list[i],\n",
    "            'Author' : author_names[i],\n",
    "            'Tags' : subject_names[i],\n",
    "            'Link' : urls[i]} for i in range(len(quotes_list))]"
   ]
  },
  {
   "cell_type": "code",
   "execution_count": 16,
   "id": "5b952304",
   "metadata": {},
   "outputs": [],
   "source": [
    "quotes_dict = list_of_dict(quotes_list,author_names,urls,subject_names)"
   ]
  },
  {
   "cell_type": "code",
   "execution_count": 17,
   "id": "81601352",
   "metadata": {},
   "outputs": [],
   "source": [
    "# convertim l'arxiu en csv\n",
    "df = pd.DataFrame(quotes_dict)\n",
    "df.to_csv('cites.csv', index = None)"
   ]
  },
  {
   "cell_type": "code",
   "execution_count": 18,
   "id": "bf9e4a64",
   "metadata": {
    "scrolled": true
   },
   "outputs": [
    {
     "data": {
      "text/html": [
       "<div>\n",
       "<style scoped>\n",
       "    .dataframe tbody tr th:only-of-type {\n",
       "        vertical-align: middle;\n",
       "    }\n",
       "\n",
       "    .dataframe tbody tr th {\n",
       "        vertical-align: top;\n",
       "    }\n",
       "\n",
       "    .dataframe thead th {\n",
       "        text-align: right;\n",
       "    }\n",
       "</style>\n",
       "<table border=\"1\" class=\"dataframe\">\n",
       "  <thead>\n",
       "    <tr style=\"text-align: right;\">\n",
       "      <th></th>\n",
       "      <th>Quotes</th>\n",
       "      <th>Author</th>\n",
       "      <th>Tags</th>\n",
       "      <th>Link</th>\n",
       "    </tr>\n",
       "  </thead>\n",
       "  <tbody>\n",
       "    <tr>\n",
       "      <th>0</th>\n",
       "      <td>“The world as we have created it is a process ...</td>\n",
       "      <td>Albert Einstein</td>\n",
       "      <td>change,deep-thoughts,thinking,world</td>\n",
       "      <td>http://quotes.toscrape.com/author/Albert-Einstein</td>\n",
       "    </tr>\n",
       "    <tr>\n",
       "      <th>1</th>\n",
       "      <td>“It is our choices, Harry, that show what we t...</td>\n",
       "      <td>J.K. Rowling</td>\n",
       "      <td>abilities,choices</td>\n",
       "      <td>http://quotes.toscrape.com/author/J-K-Rowling</td>\n",
       "    </tr>\n",
       "    <tr>\n",
       "      <th>2</th>\n",
       "      <td>“There are only two ways to live your life. On...</td>\n",
       "      <td>Albert Einstein</td>\n",
       "      <td>inspirational,life,live,miracle,miracles</td>\n",
       "      <td>http://quotes.toscrape.com/author/Albert-Einstein</td>\n",
       "    </tr>\n",
       "    <tr>\n",
       "      <th>3</th>\n",
       "      <td>“The person, be it gentleman or lady, who has ...</td>\n",
       "      <td>Jane Austen</td>\n",
       "      <td>aliteracy,books,classic,humor</td>\n",
       "      <td>http://quotes.toscrape.com/author/Jane-Austen</td>\n",
       "    </tr>\n",
       "    <tr>\n",
       "      <th>4</th>\n",
       "      <td>“Imperfection is beauty, madness is genius and...</td>\n",
       "      <td>Marilyn Monroe</td>\n",
       "      <td>be-yourself,inspirational</td>\n",
       "      <td>http://quotes.toscrape.com/author/Marilyn-Monroe</td>\n",
       "    </tr>\n",
       "    <tr>\n",
       "      <th>5</th>\n",
       "      <td>“Try not to become a man of success. Rather be...</td>\n",
       "      <td>Albert Einstein</td>\n",
       "      <td>adulthood,success,value</td>\n",
       "      <td>http://quotes.toscrape.com/author/Albert-Einstein</td>\n",
       "    </tr>\n",
       "    <tr>\n",
       "      <th>6</th>\n",
       "      <td>“It is better to be hated for what you are tha...</td>\n",
       "      <td>André Gide</td>\n",
       "      <td>life,love</td>\n",
       "      <td>http://quotes.toscrape.com/author/Andre-Gide</td>\n",
       "    </tr>\n",
       "    <tr>\n",
       "      <th>7</th>\n",
       "      <td>“I have not failed. I've just found 10,000 way...</td>\n",
       "      <td>Thomas A. Edison</td>\n",
       "      <td>edison,failure,inspirational,paraphrased</td>\n",
       "      <td>http://quotes.toscrape.com/author/Thomas-A-Edison</td>\n",
       "    </tr>\n",
       "    <tr>\n",
       "      <th>8</th>\n",
       "      <td>“A woman is like a tea bag; you never know how...</td>\n",
       "      <td>Eleanor Roosevelt</td>\n",
       "      <td>misattributed-eleanor-roosevelt</td>\n",
       "      <td>http://quotes.toscrape.com/author/Eleanor-Roos...</td>\n",
       "    </tr>\n",
       "    <tr>\n",
       "      <th>9</th>\n",
       "      <td>“A day without sunshine is like, you know, nig...</td>\n",
       "      <td>Steve Martin</td>\n",
       "      <td>humor,obvious,simile</td>\n",
       "      <td>http://quotes.toscrape.com/author/Steve-Martin</td>\n",
       "    </tr>\n",
       "  </tbody>\n",
       "</table>\n",
       "</div>"
      ],
      "text/plain": [
       "                                              Quotes             Author  \\\n",
       "0  “The world as we have created it is a process ...    Albert Einstein   \n",
       "1  “It is our choices, Harry, that show what we t...       J.K. Rowling   \n",
       "2  “There are only two ways to live your life. On...    Albert Einstein   \n",
       "3  “The person, be it gentleman or lady, who has ...        Jane Austen   \n",
       "4  “Imperfection is beauty, madness is genius and...     Marilyn Monroe   \n",
       "5  “Try not to become a man of success. Rather be...    Albert Einstein   \n",
       "6  “It is better to be hated for what you are tha...         André Gide   \n",
       "7  “I have not failed. I've just found 10,000 way...   Thomas A. Edison   \n",
       "8  “A woman is like a tea bag; you never know how...  Eleanor Roosevelt   \n",
       "9  “A day without sunshine is like, you know, nig...       Steve Martin   \n",
       "\n",
       "                                       Tags  \\\n",
       "0       change,deep-thoughts,thinking,world   \n",
       "1                         abilities,choices   \n",
       "2  inspirational,life,live,miracle,miracles   \n",
       "3             aliteracy,books,classic,humor   \n",
       "4                 be-yourself,inspirational   \n",
       "5                   adulthood,success,value   \n",
       "6                                 life,love   \n",
       "7  edison,failure,inspirational,paraphrased   \n",
       "8           misattributed-eleanor-roosevelt   \n",
       "9                      humor,obvious,simile   \n",
       "\n",
       "                                                Link  \n",
       "0  http://quotes.toscrape.com/author/Albert-Einstein  \n",
       "1      http://quotes.toscrape.com/author/J-K-Rowling  \n",
       "2  http://quotes.toscrape.com/author/Albert-Einstein  \n",
       "3      http://quotes.toscrape.com/author/Jane-Austen  \n",
       "4   http://quotes.toscrape.com/author/Marilyn-Monroe  \n",
       "5  http://quotes.toscrape.com/author/Albert-Einstein  \n",
       "6       http://quotes.toscrape.com/author/Andre-Gide  \n",
       "7  http://quotes.toscrape.com/author/Thomas-A-Edison  \n",
       "8  http://quotes.toscrape.com/author/Eleanor-Roos...  \n",
       "9     http://quotes.toscrape.com/author/Steve-Martin  "
      ]
     },
     "execution_count": 18,
     "metadata": {},
     "output_type": "execute_result"
    }
   ],
   "source": [
    "# mirem l'arxiu\n",
    "pd.read_csv('cites.csv')"
   ]
  },
  {
   "cell_type": "markdown",
   "id": "409e421b",
   "metadata": {},
   "source": [
    "## Selenium amb quotes.to.scrape.com"
   ]
  },
  {
   "cell_type": "code",
   "execution_count": 20,
   "id": "47cc6ef0",
   "metadata": {},
   "outputs": [
    {
     "name": "stderr",
     "output_type": "stream",
     "text": [
      "C:\\Users\\imber\\AppData\\Local\\Temp\\ipykernel_8740\\1881963963.py:6: DeprecationWarning: executable_path has been deprecated, please pass in a Service object\n",
      "  driver = webdriver.Chrome(driver_path, chrome_options = options)\n",
      "C:\\Users\\imber\\AppData\\Local\\Temp\\ipykernel_8740\\1881963963.py:6: DeprecationWarning: use options instead of chrome_options\n",
      "  driver = webdriver.Chrome(driver_path, chrome_options = options)\n"
     ]
    },
    {
     "ename": "SessionNotCreatedException",
     "evalue": "Message: session not created: This version of ChromeDriver only supports Chrome version 107\nCurrent browser version is 119.0.6045.160 with binary path C:\\Program Files\\Google\\Chrome\\Application\\chrome.exe\nStacktrace:\nBacktrace:\n\tOrdinal0 [0x00CBACD3+2075859]\n\tOrdinal0 [0x00C4EE61+1633889]\n\tOrdinal0 [0x00B4B7BD+571325]\n\tOrdinal0 [0x00B6DFCD+712653]\n\tOrdinal0 [0x00B69266+692838]\n\tOrdinal0 [0x00B66BE9+682985]\n\tOrdinal0 [0x00B9DBD3+908243]\n\tOrdinal0 [0x00B9D6AA+906922]\n\tOrdinal0 [0x00B97136+880950]\n\tOrdinal0 [0x00B6FEFD+720637]\n\tOrdinal0 [0x00B70F3F+724799]\n\tGetHandleVerifier [0x00F6EED2+2769538]\n\tGetHandleVerifier [0x00F60D95+2711877]\n\tGetHandleVerifier [0x00D4A03A+521194]\n\tGetHandleVerifier [0x00D48DA0+516432]\n\tOrdinal0 [0x00C5682C+1665068]\n\tOrdinal0 [0x00C5B128+1683752]\n\tOrdinal0 [0x00C5B215+1683989]\n\tOrdinal0 [0x00C66484+1729668]\n\tBaseThreadInitThunk [0x752C7BA9+25]\n\tRtlInitializeExceptionChain [0x76FEBD2B+107]\n\tRtlClearBits [0x76FEBCAF+191]\n",
     "output_type": "error",
     "traceback": [
      "\u001b[1;31m---------------------------------------------------------------------------\u001b[0m",
      "\u001b[1;31mSessionNotCreatedException\u001b[0m                Traceback (most recent call last)",
      "Input \u001b[1;32mIn [20]\u001b[0m, in \u001b[0;36m<cell line: 6>\u001b[1;34m()\u001b[0m\n\u001b[0;32m      4\u001b[0m options\u001b[38;5;241m.\u001b[39madd_argument(\u001b[38;5;124m'\u001b[39m\u001b[38;5;124m--distable-extensions\u001b[39m\u001b[38;5;124m'\u001b[39m)\n\u001b[0;32m      5\u001b[0m driver_path \u001b[38;5;241m=\u001b[39m \u001b[38;5;124m'\u001b[39m\u001b[38;5;124mC:\u001b[39m\u001b[38;5;130;01m\\\\\u001b[39;00m\u001b[38;5;124mchromedriver.exe\u001b[39m\u001b[38;5;124m'\u001b[39m\n\u001b[1;32m----> 6\u001b[0m driver \u001b[38;5;241m=\u001b[39m \u001b[43mwebdriver\u001b[49m\u001b[38;5;241;43m.\u001b[39;49m\u001b[43mChrome\u001b[49m\u001b[43m(\u001b[49m\u001b[43mdriver_path\u001b[49m\u001b[43m,\u001b[49m\u001b[43m \u001b[49m\u001b[43mchrome_options\u001b[49m\u001b[43m \u001b[49m\u001b[38;5;241;43m=\u001b[39;49m\u001b[43m \u001b[49m\u001b[43moptions\u001b[49m\u001b[43m)\u001b[49m\n\u001b[0;32m      7\u001b[0m \u001b[38;5;66;03m# així s'obrirà el navegador\u001b[39;00m\n\u001b[0;32m      8\u001b[0m driver\u001b[38;5;241m.\u001b[39mget(\u001b[38;5;124m'\u001b[39m\u001b[38;5;124mhttp://quotes.toscrape.com\u001b[39m\u001b[38;5;124m'\u001b[39m)\n",
      "File \u001b[1;32m~\\anaconda3\\lib\\site-packages\\selenium\\webdriver\\chrome\\webdriver.py:81\u001b[0m, in \u001b[0;36mWebDriver.__init__\u001b[1;34m(self, executable_path, port, options, service_args, desired_capabilities, service_log_path, chrome_options, service, keep_alive)\u001b[0m\n\u001b[0;32m     78\u001b[0m \u001b[38;5;28;01mif\u001b[39;00m \u001b[38;5;129;01mnot\u001b[39;00m service:\n\u001b[0;32m     79\u001b[0m     service \u001b[38;5;241m=\u001b[39m Service(executable_path, port, service_args, service_log_path)\n\u001b[1;32m---> 81\u001b[0m \u001b[38;5;28;43msuper\u001b[39;49m\u001b[43m(\u001b[49m\u001b[43m)\u001b[49m\u001b[38;5;241;43m.\u001b[39;49m\u001b[38;5;21;43m__init__\u001b[39;49m\u001b[43m(\u001b[49m\n\u001b[0;32m     82\u001b[0m \u001b[43m    \u001b[49m\u001b[43mDesiredCapabilities\u001b[49m\u001b[38;5;241;43m.\u001b[39;49m\u001b[43mCHROME\u001b[49m\u001b[43m[\u001b[49m\u001b[38;5;124;43m\"\u001b[39;49m\u001b[38;5;124;43mbrowserName\u001b[39;49m\u001b[38;5;124;43m\"\u001b[39;49m\u001b[43m]\u001b[49m\u001b[43m,\u001b[49m\n\u001b[0;32m     83\u001b[0m \u001b[43m    \u001b[49m\u001b[38;5;124;43m\"\u001b[39;49m\u001b[38;5;124;43mgoog\u001b[39;49m\u001b[38;5;124;43m\"\u001b[39;49m\u001b[43m,\u001b[49m\n\u001b[0;32m     84\u001b[0m \u001b[43m    \u001b[49m\u001b[43mport\u001b[49m\u001b[43m,\u001b[49m\n\u001b[0;32m     85\u001b[0m \u001b[43m    \u001b[49m\u001b[43moptions\u001b[49m\u001b[43m,\u001b[49m\n\u001b[0;32m     86\u001b[0m \u001b[43m    \u001b[49m\u001b[43mservice_args\u001b[49m\u001b[43m,\u001b[49m\n\u001b[0;32m     87\u001b[0m \u001b[43m    \u001b[49m\u001b[43mdesired_capabilities\u001b[49m\u001b[43m,\u001b[49m\n\u001b[0;32m     88\u001b[0m \u001b[43m    \u001b[49m\u001b[43mservice_log_path\u001b[49m\u001b[43m,\u001b[49m\n\u001b[0;32m     89\u001b[0m \u001b[43m    \u001b[49m\u001b[43mservice\u001b[49m\u001b[43m,\u001b[49m\n\u001b[0;32m     90\u001b[0m \u001b[43m    \u001b[49m\u001b[43mkeep_alive\u001b[49m\u001b[43m,\u001b[49m\n\u001b[0;32m     91\u001b[0m \u001b[43m\u001b[49m\u001b[43m)\u001b[49m\n",
      "File \u001b[1;32m~\\anaconda3\\lib\\site-packages\\selenium\\webdriver\\chromium\\webdriver.py:106\u001b[0m, in \u001b[0;36mChromiumDriver.__init__\u001b[1;34m(self, browser_name, vendor_prefix, port, options, service_args, desired_capabilities, service_log_path, service, keep_alive)\u001b[0m\n\u001b[0;32m    103\u001b[0m \u001b[38;5;28mself\u001b[39m\u001b[38;5;241m.\u001b[39mservice\u001b[38;5;241m.\u001b[39mstart()\n\u001b[0;32m    105\u001b[0m \u001b[38;5;28;01mtry\u001b[39;00m:\n\u001b[1;32m--> 106\u001b[0m     \u001b[38;5;28;43msuper\u001b[39;49m\u001b[43m(\u001b[49m\u001b[43m)\u001b[49m\u001b[38;5;241;43m.\u001b[39;49m\u001b[38;5;21;43m__init__\u001b[39;49m\u001b[43m(\u001b[49m\n\u001b[0;32m    107\u001b[0m \u001b[43m        \u001b[49m\u001b[43mcommand_executor\u001b[49m\u001b[38;5;241;43m=\u001b[39;49m\u001b[43mChromiumRemoteConnection\u001b[49m\u001b[43m(\u001b[49m\n\u001b[0;32m    108\u001b[0m \u001b[43m            \u001b[49m\u001b[43mremote_server_addr\u001b[49m\u001b[38;5;241;43m=\u001b[39;49m\u001b[38;5;28;43mself\u001b[39;49m\u001b[38;5;241;43m.\u001b[39;49m\u001b[43mservice\u001b[49m\u001b[38;5;241;43m.\u001b[39;49m\u001b[43mservice_url\u001b[49m\u001b[43m,\u001b[49m\n\u001b[0;32m    109\u001b[0m \u001b[43m            \u001b[49m\u001b[43mbrowser_name\u001b[49m\u001b[38;5;241;43m=\u001b[39;49m\u001b[43mbrowser_name\u001b[49m\u001b[43m,\u001b[49m\n\u001b[0;32m    110\u001b[0m \u001b[43m            \u001b[49m\u001b[43mvendor_prefix\u001b[49m\u001b[38;5;241;43m=\u001b[39;49m\u001b[43mvendor_prefix\u001b[49m\u001b[43m,\u001b[49m\n\u001b[0;32m    111\u001b[0m \u001b[43m            \u001b[49m\u001b[43mkeep_alive\u001b[49m\u001b[38;5;241;43m=\u001b[39;49m\u001b[43mkeep_alive\u001b[49m\u001b[43m,\u001b[49m\n\u001b[0;32m    112\u001b[0m \u001b[43m            \u001b[49m\u001b[43mignore_proxy\u001b[49m\u001b[38;5;241;43m=\u001b[39;49m\u001b[43m_ignore_proxy\u001b[49m\u001b[43m,\u001b[49m\n\u001b[0;32m    113\u001b[0m \u001b[43m        \u001b[49m\u001b[43m)\u001b[49m\u001b[43m,\u001b[49m\n\u001b[0;32m    114\u001b[0m \u001b[43m        \u001b[49m\u001b[43moptions\u001b[49m\u001b[38;5;241;43m=\u001b[39;49m\u001b[43moptions\u001b[49m\u001b[43m,\u001b[49m\n\u001b[0;32m    115\u001b[0m \u001b[43m    \u001b[49m\u001b[43m)\u001b[49m\n\u001b[0;32m    116\u001b[0m \u001b[38;5;28;01mexcept\u001b[39;00m \u001b[38;5;167;01mException\u001b[39;00m:\n\u001b[0;32m    117\u001b[0m     \u001b[38;5;28mself\u001b[39m\u001b[38;5;241m.\u001b[39mquit()\n",
      "File \u001b[1;32m~\\anaconda3\\lib\\site-packages\\selenium\\webdriver\\remote\\webdriver.py:288\u001b[0m, in \u001b[0;36mWebDriver.__init__\u001b[1;34m(self, command_executor, desired_capabilities, browser_profile, proxy, keep_alive, file_detector, options)\u001b[0m\n\u001b[0;32m    286\u001b[0m \u001b[38;5;28mself\u001b[39m\u001b[38;5;241m.\u001b[39m_authenticator_id \u001b[38;5;241m=\u001b[39m \u001b[38;5;28;01mNone\u001b[39;00m\n\u001b[0;32m    287\u001b[0m \u001b[38;5;28mself\u001b[39m\u001b[38;5;241m.\u001b[39mstart_client()\n\u001b[1;32m--> 288\u001b[0m \u001b[38;5;28;43mself\u001b[39;49m\u001b[38;5;241;43m.\u001b[39;49m\u001b[43mstart_session\u001b[49m\u001b[43m(\u001b[49m\u001b[43mcapabilities\u001b[49m\u001b[43m,\u001b[49m\u001b[43m \u001b[49m\u001b[43mbrowser_profile\u001b[49m\u001b[43m)\u001b[49m\n",
      "File \u001b[1;32m~\\anaconda3\\lib\\site-packages\\selenium\\webdriver\\remote\\webdriver.py:381\u001b[0m, in \u001b[0;36mWebDriver.start_session\u001b[1;34m(self, capabilities, browser_profile)\u001b[0m\n\u001b[0;32m    379\u001b[0m w3c_caps \u001b[38;5;241m=\u001b[39m _make_w3c_caps(capabilities)\n\u001b[0;32m    380\u001b[0m parameters \u001b[38;5;241m=\u001b[39m {\u001b[38;5;124m\"\u001b[39m\u001b[38;5;124mcapabilities\u001b[39m\u001b[38;5;124m\"\u001b[39m: w3c_caps}\n\u001b[1;32m--> 381\u001b[0m response \u001b[38;5;241m=\u001b[39m \u001b[38;5;28;43mself\u001b[39;49m\u001b[38;5;241;43m.\u001b[39;49m\u001b[43mexecute\u001b[49m\u001b[43m(\u001b[49m\u001b[43mCommand\u001b[49m\u001b[38;5;241;43m.\u001b[39;49m\u001b[43mNEW_SESSION\u001b[49m\u001b[43m,\u001b[49m\u001b[43m \u001b[49m\u001b[43mparameters\u001b[49m\u001b[43m)\u001b[49m\n\u001b[0;32m    382\u001b[0m \u001b[38;5;28;01mif\u001b[39;00m \u001b[38;5;124m\"\u001b[39m\u001b[38;5;124msessionId\u001b[39m\u001b[38;5;124m\"\u001b[39m \u001b[38;5;129;01mnot\u001b[39;00m \u001b[38;5;129;01min\u001b[39;00m response:\n\u001b[0;32m    383\u001b[0m     response \u001b[38;5;241m=\u001b[39m response[\u001b[38;5;124m\"\u001b[39m\u001b[38;5;124mvalue\u001b[39m\u001b[38;5;124m\"\u001b[39m]\n",
      "File \u001b[1;32m~\\anaconda3\\lib\\site-packages\\selenium\\webdriver\\remote\\webdriver.py:444\u001b[0m, in \u001b[0;36mWebDriver.execute\u001b[1;34m(self, driver_command, params)\u001b[0m\n\u001b[0;32m    442\u001b[0m response \u001b[38;5;241m=\u001b[39m \u001b[38;5;28mself\u001b[39m\u001b[38;5;241m.\u001b[39mcommand_executor\u001b[38;5;241m.\u001b[39mexecute(driver_command, params)\n\u001b[0;32m    443\u001b[0m \u001b[38;5;28;01mif\u001b[39;00m response:\n\u001b[1;32m--> 444\u001b[0m     \u001b[38;5;28;43mself\u001b[39;49m\u001b[38;5;241;43m.\u001b[39;49m\u001b[43merror_handler\u001b[49m\u001b[38;5;241;43m.\u001b[39;49m\u001b[43mcheck_response\u001b[49m\u001b[43m(\u001b[49m\u001b[43mresponse\u001b[49m\u001b[43m)\u001b[49m\n\u001b[0;32m    445\u001b[0m     response[\u001b[38;5;124m\"\u001b[39m\u001b[38;5;124mvalue\u001b[39m\u001b[38;5;124m\"\u001b[39m] \u001b[38;5;241m=\u001b[39m \u001b[38;5;28mself\u001b[39m\u001b[38;5;241m.\u001b[39m_unwrap_value(response\u001b[38;5;241m.\u001b[39mget(\u001b[38;5;124m\"\u001b[39m\u001b[38;5;124mvalue\u001b[39m\u001b[38;5;124m\"\u001b[39m, \u001b[38;5;28;01mNone\u001b[39;00m))\n\u001b[0;32m    446\u001b[0m     \u001b[38;5;28;01mreturn\u001b[39;00m response\n",
      "File \u001b[1;32m~\\anaconda3\\lib\\site-packages\\selenium\\webdriver\\remote\\errorhandler.py:249\u001b[0m, in \u001b[0;36mErrorHandler.check_response\u001b[1;34m(self, response)\u001b[0m\n\u001b[0;32m    247\u001b[0m         alert_text \u001b[38;5;241m=\u001b[39m value[\u001b[38;5;124m\"\u001b[39m\u001b[38;5;124malert\u001b[39m\u001b[38;5;124m\"\u001b[39m]\u001b[38;5;241m.\u001b[39mget(\u001b[38;5;124m\"\u001b[39m\u001b[38;5;124mtext\u001b[39m\u001b[38;5;124m\"\u001b[39m)\n\u001b[0;32m    248\u001b[0m     \u001b[38;5;28;01mraise\u001b[39;00m exception_class(message, screen, stacktrace, alert_text)  \u001b[38;5;66;03m# type: ignore[call-arg]  # mypy is not smart enough here\u001b[39;00m\n\u001b[1;32m--> 249\u001b[0m \u001b[38;5;28;01mraise\u001b[39;00m exception_class(message, screen, stacktrace)\n",
      "\u001b[1;31mSessionNotCreatedException\u001b[0m: Message: session not created: This version of ChromeDriver only supports Chrome version 107\nCurrent browser version is 119.0.6045.160 with binary path C:\\Program Files\\Google\\Chrome\\Application\\chrome.exe\nStacktrace:\nBacktrace:\n\tOrdinal0 [0x00CBACD3+2075859]\n\tOrdinal0 [0x00C4EE61+1633889]\n\tOrdinal0 [0x00B4B7BD+571325]\n\tOrdinal0 [0x00B6DFCD+712653]\n\tOrdinal0 [0x00B69266+692838]\n\tOrdinal0 [0x00B66BE9+682985]\n\tOrdinal0 [0x00B9DBD3+908243]\n\tOrdinal0 [0x00B9D6AA+906922]\n\tOrdinal0 [0x00B97136+880950]\n\tOrdinal0 [0x00B6FEFD+720637]\n\tOrdinal0 [0x00B70F3F+724799]\n\tGetHandleVerifier [0x00F6EED2+2769538]\n\tGetHandleVerifier [0x00F60D95+2711877]\n\tGetHandleVerifier [0x00D4A03A+521194]\n\tGetHandleVerifier [0x00D48DA0+516432]\n\tOrdinal0 [0x00C5682C+1665068]\n\tOrdinal0 [0x00C5B128+1683752]\n\tOrdinal0 [0x00C5B215+1683989]\n\tOrdinal0 [0x00C66484+1729668]\n\tBaseThreadInitThunk [0x752C7BA9+25]\n\tRtlInitializeExceptionChain [0x76FEBD2B+107]\n\tRtlClearBits [0x76FEBCAF+191]\n"
     ]
    }
   ],
   "source": [
    "# opcions de navegació\n",
    "options = webdriver.ChromeOptions()\n",
    "options.add_argument('--start-maximized')\n",
    "options.add_argument('--distable-extensions')\n",
    "driver_path = 'C:\\\\chromedriver.exe'\n",
    "driver = webdriver.Chrome(driver_path, chrome_options = options)\n",
    "# així s'obrirà el navegador\n",
    "driver.get('http://quotes.toscrape.com')\n",
    "\n",
    "total = []\n",
    "\n",
    "cites = driver.find_elements(By.CLASS_NAME,\"quote\")\n",
    "\n",
    "for quote in cites:\n",
    "    cita = quote.find_element(By.CLASS_NAME,'text').text[1:-2]\n",
    "    autor = quote.find_element(By.CLASS_NAME,'author').text\n",
    "    tags = quote.find_element(By.CLASS_NAME,'tags').text[6:]\n",
    "    new = ((cita, autor, tags))\n",
    "    total.append(new)\n",
    "\n",
    "'''for x in range (len(cites)):\n",
    "    print(cites[x].text)'''\n",
    "\n",
    "driver.quit()\n",
    "\n",
    "df = pd.DataFrame(total, columns=['cita','autor','tags'])\n",
    "df.to_csv('cites_selenium.csv', index = None)\n",
    "df.head(10)"
   ]
  },
  {
   "cell_type": "markdown",
   "id": "4afefd55",
   "metadata": {},
   "source": [
    "**Amb l'exercici de wikipedia vaig a obtenir el resultat final de la classificació del mundial d'aquest any de Formula 1**"
   ]
  },
  {
   "cell_type": "markdown",
   "id": "cc53dc25",
   "metadata": {},
   "source": [
    "## Beautiful Soup amb wikipedia"
   ]
  },
  {
   "cell_type": "code",
   "execution_count": null,
   "id": "44626e90",
   "metadata": {},
   "outputs": [],
   "source": [
    "# descarreguem la pàgina\n",
    "url = \"https://es.wikipedia.org/wiki/Temporada_2022_de_F%C3%B3rmula_1\"\n",
    "page = requests.get(url)\n",
    "page.status_code\n",
    "page_text = page.text\n",
    "# demanem que ens digui si l'extracció del text s'ha fet correctament, si recordem\n",
    "# de 200 a 208 s'ha fet correctament\n",
    "print(page.status_code)"
   ]
  },
  {
   "cell_type": "code",
   "execution_count": null,
   "id": "09c030b1",
   "metadata": {},
   "outputs": [],
   "source": [
    "soup = BeautifulSoup(page_text,'html.parser')\n",
    "print(soup.prettify())"
   ]
  },
  {
   "cell_type": "code",
   "execution_count": null,
   "id": "5238cedb",
   "metadata": {},
   "outputs": [],
   "source": [
    "#demanem que ens retorni totes les taules\n",
    "soup.find_all('table')"
   ]
  },
  {
   "cell_type": "code",
   "execution_count": null,
   "id": "a78ee22a",
   "metadata": {},
   "outputs": [],
   "source": [
    "# demanem quantes taules hi ha a l'article\n",
    "len(soup.find_all('table'))"
   ]
  },
  {
   "cell_type": "code",
   "execution_count": null,
   "id": "0636c10c",
   "metadata": {
    "scrolled": false
   },
   "outputs": [],
   "source": [
    "# segons les característiques hi ha dues possibles taules.\n",
    "print('Clases de cada taula:')\n",
    "for table in soup.find_all('table'):\n",
    "    print(table.get('class'))"
   ]
  },
  {
   "cell_type": "code",
   "execution_count": null,
   "id": "ed2a5d02",
   "metadata": {},
   "outputs": [],
   "source": [
    "# busco la taula de classificació\n",
    "right_table = soup.find_all('table', class_= 'wikitable sortable')\n",
    "# mirem les taules i selecciono la taula [0] que és la que vull\n",
    "right_table = right_table[0]\n",
    "right_table"
   ]
  },
  {
   "cell_type": "code",
   "execution_count": null,
   "id": "7cbe6b15",
   "metadata": {},
   "outputs": [],
   "source": [
    "# llegim l'html\n",
    "df = pd.read_html(str(right_table))\n",
    "df= pd.DataFrame(df[0])\n",
    "# elimino les columnes que no vull\n",
    "df_1 = df.drop(['Victorias','Podios','Poles','Vueltas rápidas', 'Vueltas lideradas'], axis = 1)\n",
    "# converteixo en csv\n",
    "df_1.to_csv('classificacio.csv', index = None)\n",
    "# llegeixo el cs\n",
    "pd.read_csv('classificacio.csv')"
   ]
  },
  {
   "cell_type": "markdown",
   "id": "42ee3bc8",
   "metadata": {},
   "source": [
    "## Selenium amb wikipedia"
   ]
  },
  {
   "cell_type": "code",
   "execution_count": null,
   "id": "4db3465c",
   "metadata": {},
   "outputs": [],
   "source": [
    "# opcions de navegació\n",
    "dfbase = pd.DataFrame()\n",
    "options = webdriver.ChromeOptions()\n",
    "options.add_argument('--start-maximized')\n",
    "options.add_argument('--distable-extensions')\n",
    "driver_path = 'C:\\\\chromedriver.exe'\n",
    "driver = webdriver.Chrome(driver_path, chrome_options = options)\n",
    "# així s'obrirà el navegador\n",
    "driver.get('https://es.wikipedia.org/wiki/Temporada_2022_de_F%C3%B3rmula_1')\n",
    "# extrec la taula\n",
    "item = driver.find_elements(By.XPATH, '//*[@id=\"mw-content-text\"]/div[1]/table[14]')\n",
    "# extrec les dades de la taula\n",
    "for table in item:\n",
    "    data = [item.text for item in table.find_elements(By.XPATH, \".//*[self::td or self::th]\")]\n",
    "    print(data)\n",
    "# així es tancarà el navegador\n",
    "driver.quit()"
   ]
  },
  {
   "cell_type": "code",
   "execution_count": null,
   "id": "c1bba3fa",
   "metadata": {},
   "outputs": [],
   "source": [
    "columns = ['Pos',\n",
    "           'Piloto',\n",
    "           'Escuderia',\n",
    "           'Grandes Premios',\n",
    "           'Victorias',\n",
    "           'Podios',\n",
    "           'Poles',\n",
    "           'Vueltas Rapidas',\n",
    "           'Vueltas lideradas',\n",
    "           'Puntos']\n",
    "columnes = len(columns)\n",
    "print(columnes)"
   ]
  },
  {
   "cell_type": "code",
   "execution_count": null,
   "id": "df832485",
   "metadata": {},
   "outputs": [],
   "source": [
    "nnn = []\n",
    "for i in range(0, len(data), columnes):\n",
    "    nnn.append(data[i:i + columnes])\n",
    "    \n",
    "df_selenium = pd.DataFrame(nnn, columns = columns)\n",
    "# converteixo en csv\n",
    "df_selenium.to_csv('classificacio_selenium.csv', index = None)\n",
    "# llegeixo el cs\n",
    "pd.read_csv('classificacio_selenium.csv')\n",
    "# elimino les columnes que no vull\n",
    "df_1_selenium = df_selenium.drop(columns = ['Victorias','Podios','Poles','Vueltas Rapidas','Vueltas lideradas'])\n",
    "# elimino la primera fila que son les columnes duplicades\n",
    "df_2_selenium = df_1_selenium.drop(0) \n",
    "# imprimeixo\n",
    "df_2_selenium"
   ]
  },
  {
   "cell_type": "markdown",
   "id": "8207cf18",
   "metadata": {},
   "source": [
    "**EXERCICI 3**\n",
    "\n",
    "**Tria una pàgina web que tu vulguis i realitza web scraping mitjançant la llibreria Selenium primer i Scrapy després.**"
   ]
  },
  {
   "cell_type": "markdown",
   "id": "7e963758",
   "metadata": {},
   "source": [
    "## Selenium"
   ]
  },
  {
   "cell_type": "code",
   "execution_count": null,
   "id": "a151056e",
   "metadata": {},
   "outputs": [],
   "source": [
    "# opcions de navegació\n",
    "options = webdriver.ChromeOptions()\n",
    "options.add_argument('--start-maximized')\n",
    "options.add_argument('--distable-extensions')\n",
    "driver_path = 'C:\\\\chromedriver.exe'\n",
    "driver = webdriver.Chrome(driver_path, chrome_options = options)\n",
    "# així s'obrirà el navegador\n",
    "driver.get('https://datosmacro.expansion.com/materias-primas/petroleo')# opcions de navegació\n",
    "# accepto cookies\n",
    "element = driver.find_element(By.XPATH,'//*[@id=\"didomi-notice-agree-button\"]')\n",
    "element.click()\n",
    "# extrec la informació:\n",
    "nom = driver.find_element(By.XPATH,'//*[@id=\"tb1_43803\"]/tbody/tr[1]/td[1]').text[:-3]\n",
    "cotització = driver.find_element(By.XPATH,'//*[@id=\"tb1_43803\"]/tbody/tr[1]/td[3]').text\n",
    "data = driver.find_element(By.XPATH,'//*[@id=\"tb1_43803\"]/tbody/tr[1]/td[2]').text\n",
    "print('el',nom,'cotitza a',cotització,'amb data',data)\n",
    "# així es tancarà el navegador\n",
    "driver.quit()"
   ]
  },
  {
   "cell_type": "markdown",
   "id": "e203ba06",
   "metadata": {},
   "source": [
    "## Scrapy"
   ]
  },
  {
   "cell_type": "code",
   "execution_count": null,
   "id": "438ad47f",
   "metadata": {},
   "outputs": [],
   "source": [
    "class JsonWriterPipeline(object):\n",
    "    def open_spider(self, spider):\n",
    "        self.file = open('resultados.jl','w')\n",
    "    def close_spider(self,spider):\n",
    "        self.file.close()\n",
    "    def process_item(self, item, spider):\n",
    "        line = json.dumps(dict(item)) + \"\\n\"\n",
    "        self.file.write(line)\n",
    "        return item"
   ]
  },
  {
   "cell_type": "code",
   "execution_count": null,
   "id": "f7359903",
   "metadata": {},
   "outputs": [],
   "source": [
    "# defineixo l'spider\n",
    "class BrentSpider(scrapy.Spider):\n",
    "# nom de l'spider\n",
    "    name = \"Brent\"\n",
    "# url que buscarà\n",
    "    start_urls = [\n",
    "        'https://datosmacro.expansion.com/materias-primas/petroleo',\n",
    "    ]\n",
    "    custom_settings = { # com es guardarà l'arxiu\n",
    "        'LOG_LEVEL' : logging.WARNING,\n",
    "        'FEED_FORMAT' : 'csv',\n",
    "        'FEED_URI' : 'brent.csv'\n",
    "    }\n",
    "# defineixo lo que vull extreure, en format text dins de la taula\n",
    "    def parse(self,response):\n",
    "        for row in response.xpath('//*[@id=\"tb1_43803\"]'):\n",
    "            yield{\n",
    "                'nom' : row.xpath('//*[@id=\"tb1_43803\"]/tbody/tr[1]/td[1]/a//text()').extract_first(),\n",
    "                'cotització' : row.xpath('//*[@id=\"tb1_43803\"]/tbody/tr[1]/td[3]//text()').extract_first(),\n",
    "                'data' : row.xpath('//*[@id=\"tb1_43803\"]/tbody/tr[1]/td[2]//text()').extract_first(),\n",
    "            }\n",
    "    "
   ]
  },
  {
   "cell_type": "code",
   "execution_count": null,
   "id": "d03cb2d2",
   "metadata": {},
   "outputs": [],
   "source": [
    "# si no introdueixo aquest condicional surt un missatge d'error on diu que ja s'ha creat el procediment\n",
    "if \"twisted.internet.reactor\" in sys.modules:\n",
    "    del sys.modules[\"twisted.internet.reactor\"]\n",
    "# executo l'spider    \n",
    "process = CrawlerProcess()\n",
    "process.crawl(BrentSpider)\n",
    "process.start()"
   ]
  },
  {
   "cell_type": "code",
   "execution_count": null,
   "id": "ff4bbfef",
   "metadata": {},
   "outputs": [],
   "source": [
    "# un cop s'ha executat l'spider tindré un arxiu .csv al ordinador, si el converteixo en DataFrame, haig d'eliminar la segona\n",
    "# fila que són els headers i la primera que inclou llenguatge html.\n",
    "# llegeido l'arxiu.\n",
    "df = pd.read_csv('C:\\Brent.csv')\n",
    "df1 = df.drop([0,1], axis = 0)\n",
    "df1.head()"
   ]
  }
 ],
 "metadata": {
  "kernelspec": {
   "display_name": "Python 3 (ipykernel)",
   "language": "python",
   "name": "python3"
  },
  "language_info": {
   "codemirror_mode": {
    "name": "ipython",
    "version": 3
   },
   "file_extension": ".py",
   "mimetype": "text/x-python",
   "name": "python",
   "nbconvert_exporter": "python",
   "pygments_lexer": "ipython3",
   "version": "3.9.12"
  }
 },
 "nbformat": 4,
 "nbformat_minor": 5
}
